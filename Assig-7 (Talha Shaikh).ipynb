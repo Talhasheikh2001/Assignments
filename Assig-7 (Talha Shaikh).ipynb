{
 "cells": [
  {
   "cell_type": "code",
   "execution_count": 3,
   "id": "bc2936c9-532b-4899-9487-50cc448e0a85",
   "metadata": {},
   "outputs": [],
   "source": [
    "import pandas as pd"
   ]
  },
  {
   "cell_type": "code",
   "execution_count": 4,
   "id": "db29da7b-4b4a-47e9-81f2-8b163814000d",
   "metadata": {},
   "outputs": [
    {
     "name": "stderr",
     "output_type": "stream",
     "text": [
      "C:\\Users\\haroon traders\\AppData\\Local\\Temp\\ipykernel_2036\\3961931909.py:1: DtypeWarning: Columns (3,4,5,6,12) have mixed types. Specify dtype option on import or set low_memory=False.\n",
      "  df = pd.read_csv(\"Salary.csv\")\n"
     ]
    },
    {
     "data": {
      "text/html": [
       "<div>\n",
       "<style scoped>\n",
       "    .dataframe tbody tr th:only-of-type {\n",
       "        vertical-align: middle;\n",
       "    }\n",
       "\n",
       "    .dataframe tbody tr th {\n",
       "        vertical-align: top;\n",
       "    }\n",
       "\n",
       "    .dataframe thead th {\n",
       "        text-align: right;\n",
       "    }\n",
       "</style>\n",
       "<table border=\"1\" class=\"dataframe\">\n",
       "  <thead>\n",
       "    <tr style=\"text-align: right;\">\n",
       "      <th></th>\n",
       "      <th>Id</th>\n",
       "      <th>EmployeeName</th>\n",
       "      <th>JobTitle</th>\n",
       "      <th>BasePay</th>\n",
       "      <th>OvertimePay</th>\n",
       "      <th>OtherPay</th>\n",
       "      <th>Benefits</th>\n",
       "      <th>TotalPay</th>\n",
       "      <th>TotalPayBenefits</th>\n",
       "      <th>Year</th>\n",
       "      <th>Notes</th>\n",
       "      <th>Agency</th>\n",
       "      <th>Status</th>\n",
       "    </tr>\n",
       "  </thead>\n",
       "  <tbody>\n",
       "    <tr>\n",
       "      <th>0</th>\n",
       "      <td>1</td>\n",
       "      <td>NATHANIEL FORD</td>\n",
       "      <td>GENERAL MANAGER-METROPOLITAN TRANSIT AUTHORITY</td>\n",
       "      <td>167411.18</td>\n",
       "      <td>0.0</td>\n",
       "      <td>400184.25</td>\n",
       "      <td>NaN</td>\n",
       "      <td>567595.43</td>\n",
       "      <td>567595.43</td>\n",
       "      <td>2011</td>\n",
       "      <td>NaN</td>\n",
       "      <td>San Francisco</td>\n",
       "      <td>NaN</td>\n",
       "    </tr>\n",
       "    <tr>\n",
       "      <th>1</th>\n",
       "      <td>2</td>\n",
       "      <td>GARY JIMENEZ</td>\n",
       "      <td>CAPTAIN III (POLICE DEPARTMENT)</td>\n",
       "      <td>155966.02</td>\n",
       "      <td>245131.88</td>\n",
       "      <td>137811.38</td>\n",
       "      <td>NaN</td>\n",
       "      <td>538909.28</td>\n",
       "      <td>538909.28</td>\n",
       "      <td>2011</td>\n",
       "      <td>NaN</td>\n",
       "      <td>San Francisco</td>\n",
       "      <td>NaN</td>\n",
       "    </tr>\n",
       "    <tr>\n",
       "      <th>2</th>\n",
       "      <td>3</td>\n",
       "      <td>ALBERT PARDINI</td>\n",
       "      <td>CAPTAIN III (POLICE DEPARTMENT)</td>\n",
       "      <td>212739.13</td>\n",
       "      <td>106088.18</td>\n",
       "      <td>16452.6</td>\n",
       "      <td>NaN</td>\n",
       "      <td>335279.91</td>\n",
       "      <td>335279.91</td>\n",
       "      <td>2011</td>\n",
       "      <td>NaN</td>\n",
       "      <td>San Francisco</td>\n",
       "      <td>NaN</td>\n",
       "    </tr>\n",
       "    <tr>\n",
       "      <th>3</th>\n",
       "      <td>4</td>\n",
       "      <td>CHRISTOPHER CHONG</td>\n",
       "      <td>WIRE ROPE CABLE MAINTENANCE MECHANIC</td>\n",
       "      <td>77916.0</td>\n",
       "      <td>56120.71</td>\n",
       "      <td>198306.9</td>\n",
       "      <td>NaN</td>\n",
       "      <td>332343.61</td>\n",
       "      <td>332343.61</td>\n",
       "      <td>2011</td>\n",
       "      <td>NaN</td>\n",
       "      <td>San Francisco</td>\n",
       "      <td>NaN</td>\n",
       "    </tr>\n",
       "    <tr>\n",
       "      <th>4</th>\n",
       "      <td>5</td>\n",
       "      <td>PATRICK GARDNER</td>\n",
       "      <td>DEPUTY CHIEF OF DEPARTMENT,(FIRE DEPARTMENT)</td>\n",
       "      <td>134401.6</td>\n",
       "      <td>9737.0</td>\n",
       "      <td>182234.59</td>\n",
       "      <td>NaN</td>\n",
       "      <td>326373.19</td>\n",
       "      <td>326373.19</td>\n",
       "      <td>2011</td>\n",
       "      <td>NaN</td>\n",
       "      <td>San Francisco</td>\n",
       "      <td>NaN</td>\n",
       "    </tr>\n",
       "    <tr>\n",
       "      <th>...</th>\n",
       "      <td>...</td>\n",
       "      <td>...</td>\n",
       "      <td>...</td>\n",
       "      <td>...</td>\n",
       "      <td>...</td>\n",
       "      <td>...</td>\n",
       "      <td>...</td>\n",
       "      <td>...</td>\n",
       "      <td>...</td>\n",
       "      <td>...</td>\n",
       "      <td>...</td>\n",
       "      <td>...</td>\n",
       "      <td>...</td>\n",
       "    </tr>\n",
       "    <tr>\n",
       "      <th>148649</th>\n",
       "      <td>148650</td>\n",
       "      <td>Roy I Tillery</td>\n",
       "      <td>Custodian</td>\n",
       "      <td>0</td>\n",
       "      <td>0</td>\n",
       "      <td>0</td>\n",
       "      <td>0</td>\n",
       "      <td>0.00</td>\n",
       "      <td>0.00</td>\n",
       "      <td>2014</td>\n",
       "      <td>NaN</td>\n",
       "      <td>San Francisco</td>\n",
       "      <td>PT</td>\n",
       "    </tr>\n",
       "    <tr>\n",
       "      <th>148650</th>\n",
       "      <td>148651</td>\n",
       "      <td>Not provided</td>\n",
       "      <td>Not provided</td>\n",
       "      <td>Not Provided</td>\n",
       "      <td>Not Provided</td>\n",
       "      <td>Not Provided</td>\n",
       "      <td>Not Provided</td>\n",
       "      <td>0.00</td>\n",
       "      <td>0.00</td>\n",
       "      <td>2014</td>\n",
       "      <td>NaN</td>\n",
       "      <td>San Francisco</td>\n",
       "      <td>NaN</td>\n",
       "    </tr>\n",
       "    <tr>\n",
       "      <th>148651</th>\n",
       "      <td>148652</td>\n",
       "      <td>Not provided</td>\n",
       "      <td>Not provided</td>\n",
       "      <td>Not Provided</td>\n",
       "      <td>Not Provided</td>\n",
       "      <td>Not Provided</td>\n",
       "      <td>Not Provided</td>\n",
       "      <td>0.00</td>\n",
       "      <td>0.00</td>\n",
       "      <td>2014</td>\n",
       "      <td>NaN</td>\n",
       "      <td>San Francisco</td>\n",
       "      <td>NaN</td>\n",
       "    </tr>\n",
       "    <tr>\n",
       "      <th>148652</th>\n",
       "      <td>148653</td>\n",
       "      <td>Not provided</td>\n",
       "      <td>Not provided</td>\n",
       "      <td>Not Provided</td>\n",
       "      <td>Not Provided</td>\n",
       "      <td>Not Provided</td>\n",
       "      <td>Not Provided</td>\n",
       "      <td>0.00</td>\n",
       "      <td>0.00</td>\n",
       "      <td>2014</td>\n",
       "      <td>NaN</td>\n",
       "      <td>San Francisco</td>\n",
       "      <td>NaN</td>\n",
       "    </tr>\n",
       "    <tr>\n",
       "      <th>148653</th>\n",
       "      <td>148654</td>\n",
       "      <td>Joe Lopez</td>\n",
       "      <td>Counselor, Log Cabin Ranch</td>\n",
       "      <td>0</td>\n",
       "      <td>0</td>\n",
       "      <td>-618.13</td>\n",
       "      <td>0</td>\n",
       "      <td>-618.13</td>\n",
       "      <td>-618.13</td>\n",
       "      <td>2014</td>\n",
       "      <td>NaN</td>\n",
       "      <td>San Francisco</td>\n",
       "      <td>PT</td>\n",
       "    </tr>\n",
       "  </tbody>\n",
       "</table>\n",
       "<p>148654 rows × 13 columns</p>\n",
       "</div>"
      ],
      "text/plain": [
       "            Id       EmployeeName  \\\n",
       "0            1     NATHANIEL FORD   \n",
       "1            2       GARY JIMENEZ   \n",
       "2            3     ALBERT PARDINI   \n",
       "3            4  CHRISTOPHER CHONG   \n",
       "4            5    PATRICK GARDNER   \n",
       "...        ...                ...   \n",
       "148649  148650      Roy I Tillery   \n",
       "148650  148651       Not provided   \n",
       "148651  148652       Not provided   \n",
       "148652  148653       Not provided   \n",
       "148653  148654          Joe Lopez   \n",
       "\n",
       "                                              JobTitle       BasePay  \\\n",
       "0       GENERAL MANAGER-METROPOLITAN TRANSIT AUTHORITY     167411.18   \n",
       "1                      CAPTAIN III (POLICE DEPARTMENT)     155966.02   \n",
       "2                      CAPTAIN III (POLICE DEPARTMENT)     212739.13   \n",
       "3                 WIRE ROPE CABLE MAINTENANCE MECHANIC       77916.0   \n",
       "4         DEPUTY CHIEF OF DEPARTMENT,(FIRE DEPARTMENT)      134401.6   \n",
       "...                                                ...           ...   \n",
       "148649                                       Custodian             0   \n",
       "148650                                    Not provided  Not Provided   \n",
       "148651                                    Not provided  Not Provided   \n",
       "148652                                    Not provided  Not Provided   \n",
       "148653                      Counselor, Log Cabin Ranch             0   \n",
       "\n",
       "         OvertimePay      OtherPay      Benefits   TotalPay  TotalPayBenefits  \\\n",
       "0                0.0     400184.25           NaN  567595.43         567595.43   \n",
       "1          245131.88     137811.38           NaN  538909.28         538909.28   \n",
       "2          106088.18       16452.6           NaN  335279.91         335279.91   \n",
       "3           56120.71      198306.9           NaN  332343.61         332343.61   \n",
       "4             9737.0     182234.59           NaN  326373.19         326373.19   \n",
       "...              ...           ...           ...        ...               ...   \n",
       "148649             0             0             0       0.00              0.00   \n",
       "148650  Not Provided  Not Provided  Not Provided       0.00              0.00   \n",
       "148651  Not Provided  Not Provided  Not Provided       0.00              0.00   \n",
       "148652  Not Provided  Not Provided  Not Provided       0.00              0.00   \n",
       "148653             0       -618.13             0    -618.13           -618.13   \n",
       "\n",
       "        Year  Notes         Agency Status  \n",
       "0       2011    NaN  San Francisco    NaN  \n",
       "1       2011    NaN  San Francisco    NaN  \n",
       "2       2011    NaN  San Francisco    NaN  \n",
       "3       2011    NaN  San Francisco    NaN  \n",
       "4       2011    NaN  San Francisco    NaN  \n",
       "...      ...    ...            ...    ...  \n",
       "148649  2014    NaN  San Francisco     PT  \n",
       "148650  2014    NaN  San Francisco    NaN  \n",
       "148651  2014    NaN  San Francisco    NaN  \n",
       "148652  2014    NaN  San Francisco    NaN  \n",
       "148653  2014    NaN  San Francisco     PT  \n",
       "\n",
       "[148654 rows x 13 columns]"
      ]
     },
     "execution_count": 4,
     "metadata": {},
     "output_type": "execute_result"
    }
   ],
   "source": [
    "df = pd.read_csv(\"Salary.csv\")\n",
    "df"
   ]
  },
  {
   "cell_type": "markdown",
   "id": "d69ed3f1-4d0b-4a95-840d-f8d8647ae407",
   "metadata": {},
   "source": [
    "1. Which employee has the highest TotalPayBenefits?"
   ]
  },
  {
   "cell_type": "code",
   "execution_count": 9,
   "id": "e1ac862d-4454-464b-be8c-8a54cffb49dc",
   "metadata": {},
   "outputs": [
    {
     "name": "stdout",
     "output_type": "stream",
     "text": [
      "1. Highest TotalPayBenefits Employee:\n",
      "EmployeeName        NATHANIEL FORD\n",
      "TotalPayBenefits         567595.43\n",
      "Name: 0, dtype: object\n"
     ]
    }
   ],
   "source": [
    "highest_pay = df.loc[df['TotalPayBenefits'].idxmax()]\n",
    "print(\"1. Highest TotalPayBenefits Employee:\")\n",
    "print(highest_pay[['EmployeeName', 'TotalPayBenefits']])"
   ]
  },
  {
   "cell_type": "markdown",
   "id": "ec16b379-08ea-48af-8a69-aeaa1946a334",
   "metadata": {},
   "source": [
    "2. Drop ID, Notes, Agency and Status Columns"
   ]
  },
  {
   "cell_type": "code",
   "execution_count": 17,
   "id": "1f1cf01c-dc96-4fa9-9dba-2949b4ef668a",
   "metadata": {},
   "outputs": [],
   "source": [
    "df1 = df.drop(columns=['Id', 'Notes', 'Agency', 'Status'], errors='ignore')"
   ]
  },
  {
   "cell_type": "code",
   "execution_count": 18,
   "id": "1763e300-ae11-48cb-906a-e33a8017d1f4",
   "metadata": {},
   "outputs": [
    {
     "name": "stdout",
     "output_type": "stream",
     "text": [
      "Index(['EmployeeName', 'JobTitle', 'BasePay', 'OvertimePay', 'OtherPay',\n",
      "       'Benefits', 'TotalPay', 'TotalPayBenefits', 'Year'],\n",
      "      dtype='object')\n"
     ]
    }
   ],
   "source": [
    "print(df1.columns)"
   ]
  },
  {
   "cell_type": "markdown",
   "id": "f1dafbe8-3d8e-4d73-a1e8-10cb878942a5",
   "metadata": {},
   "source": [
    "3. Total Number of Job Titles Contain POLICE"
   ]
  },
  {
   "cell_type": "code",
   "execution_count": 19,
   "id": "f590ffcf-bc51-4120-a4e1-cdd3a87b33fa",
   "metadata": {},
   "outputs": [
    {
     "name": "stdout",
     "output_type": "stream",
     "text": [
      "\n",
      "3. Total number of job titles that contain 'POLICE': 8201\n"
     ]
    }
   ],
   "source": [
    "num_police_titles = df1['JobTitle'].str.contains(\"POLICE\", case=False).sum()\n",
    "print(\"\\n3. Total number of job titles that contain 'POLICE':\", num_police_titles)"
   ]
  },
  {
   "cell_type": "markdown",
   "id": "c78d2bc6-2792-4d08-a287-bdb11505a7f9",
   "metadata": {},
   "source": [
    "4. Top 10 most common job titles?"
   ]
  },
  {
   "cell_type": "code",
   "execution_count": 22,
   "id": "2e038a9d-0200-4457-81e4-a3a11ac3bd9d",
   "metadata": {},
   "outputs": [
    {
     "name": "stdout",
     "output_type": "stream",
     "text": [
      "\n",
      "4. Top 10 most common job titles:\n",
      "JobTitle\n",
      "Transit Operator                7036\n",
      "Special Nurse                   4389\n",
      "Registered Nurse                3736\n",
      "Public Svc Aide-Public Works    2518\n",
      "Police Officer 3                2421\n",
      "Custodian                       2418\n",
      "TRANSIT OPERATOR                2388\n",
      "Firefighter                     2359\n",
      "Recreation Leader               1971\n",
      "Patient Care Assistant          1945\n",
      "Name: count, dtype: int64\n"
     ]
    }
   ],
   "source": [
    "top_common_titles = df1['JobTitle'].value_counts().head(10)\n",
    "print(\"\\n4. Top 10 most common job titles:\")\n",
    "print(top_common_titles)"
   ]
  },
  {
   "cell_type": "code",
   "execution_count": 23,
   "id": "dcd013d1-176c-4127-9b8b-aef8a305ee35",
   "metadata": {},
   "outputs": [
    {
     "name": "stdout",
     "output_type": "stream",
     "text": [
      "\n",
      "5. Top 10 average TotalPay by JobTitle:\n",
      "JobTitle\n",
      "GENERAL MANAGER-METROPOLITAN TRANSIT AUTHORITY    399211.275000\n",
      "Chief Investment Officer                          339653.700000\n",
      "Chief of Police                                   329183.646667\n",
      "Chief, Fire Department                            325971.683333\n",
      "DEPUTY DIRECTOR OF INVESTMENTS                    307899.460000\n",
      "CHIEF OF DEPARTMENT, (FIRE DEPARTMENT)            302377.730000\n",
      "Gen Mgr, Public Trnsp Dept                        297769.413333\n",
      "Asst Chf of Dept (Fire Dept)                      281763.483889\n",
      "DEPUTY CHIEF OF DEPARTMENT,(FIRE DEPARTMENT)      279359.560000\n",
      "Dep Dir for Investments, Ret                      278592.545000\n",
      "Name: TotalPay, dtype: float64\n"
     ]
    }
   ],
   "source": [
    "top_avg_totalpay = df1.groupby('JobTitle')['TotalPay'].mean().sort_values(ascending=False).head(10)\n",
    "print(\"\\n5. Top 10 average TotalPay by JobTitle:\")\n",
    "print(top_avg_totalpay)"
   ]
  },
  {
   "cell_type": "markdown",
   "id": "42759b56-a4d9-473c-9eaa-e244d58a3326",
   "metadata": {},
   "source": [
    "6. How many unique job titles are there each year?"
   ]
  },
  {
   "cell_type": "code",
   "execution_count": 24,
   "id": "ed7b62e6-ab90-4f20-a361-7648b5a9f2fb",
   "metadata": {},
   "outputs": [
    {
     "name": "stdout",
     "output_type": "stream",
     "text": [
      "\n",
      "6. Unique job titles each year:\n",
      "Year\n",
      "2011    1045\n",
      "2012    1044\n",
      "2013    1051\n",
      "2014     997\n",
      "Name: JobTitle, dtype: int64\n"
     ]
    }
   ],
   "source": [
    "unique_titles_per_year = df1.groupby('Year')['JobTitle'].nunique()\n",
    "print(\"\\n6. Unique job titles each year:\")\n",
    "print(unique_titles_per_year)"
   ]
  },
  {
   "cell_type": "markdown",
   "id": "b44f11a5-cfbd-47da-95ee-96b4145339cd",
   "metadata": {},
   "source": [
    "7. Find Average TotalPay Of All Employee Per Year."
   ]
  },
  {
   "cell_type": "code",
   "execution_count": 26,
   "id": "445892ba-6b9b-4992-b84d-b6aaaad22d59",
   "metadata": {},
   "outputs": [
    {
     "name": "stdout",
     "output_type": "stream",
     "text": [
      "\n",
      "7. Average TotalPay per year:\n",
      "Year\n",
      "2011    71744.103871\n",
      "2012    74113.262265\n",
      "2013    77611.443142\n",
      "2014    75463.918140\n",
      "Name: TotalPay, dtype: float64\n"
     ]
    }
   ],
   "source": [
    "avg_totalpay_per_year = df1.groupby('Year')['TotalPay'].mean()\n",
    "print(\"\\n7. Average TotalPay per year:\")\n",
    "print(avg_totalpay_per_year)"
   ]
  },
  {
   "cell_type": "markdown",
   "id": "a433518b-d23a-4059-b330-5faa135d0873",
   "metadata": {},
   "source": [
    "8. How many unique employees worked each year?"
   ]
  },
  {
   "cell_type": "code",
   "execution_count": 27,
   "id": "83c89ab6-04dc-4515-88b6-d5cee3f10e7a",
   "metadata": {},
   "outputs": [
    {
     "name": "stdout",
     "output_type": "stream",
     "text": [
      "\n",
      "8. Unique employees per year:\n",
      "Year\n",
      "2011    33878\n",
      "2012    34349\n",
      "2013    36150\n",
      "2014    36684\n",
      "Name: EmployeeName, dtype: int64\n"
     ]
    }
   ],
   "source": [
    "unique_employees_per_year = df1.groupby('Year')['EmployeeName'].nunique()\n",
    "print(\"\\n8. Unique employees per year:\")\n",
    "print(unique_employees_per_year)"
   ]
  },
  {
   "cell_type": "markdown",
   "id": "374746bc-aa2a-47da-b572-ce4a31e8bd49",
   "metadata": {},
   "source": [
    "9. Which year had the most employees earning over 100,000 in TotalPay?"
   ]
  },
  {
   "cell_type": "code",
   "execution_count": 29,
   "id": "57c6abaf-b9af-4fcf-a603-8cf60a6f86b7",
   "metadata": {},
   "outputs": [
    {
     "name": "stdout",
     "output_type": "stream",
     "text": [
      "\n",
      "9. Year with most employees earning over 100,000 in TotalPay: 2013\n"
     ]
    }
   ],
   "source": [
    "high_earners = df1[df['TotalPay'] > 100000]\n",
    "most_high_earners_year = high_earners.groupby('Year')['EmployeeName'].count().idxmax()\n",
    "print(\"\\n9. Year with most employees earning over 100,000 in TotalPay:\", most_high_earners_year)"
   ]
  },
  {
   "cell_type": "markdown",
   "id": "2c4d647c-658a-448a-8e1c-1ec97a5d9130",
   "metadata": {},
   "source": [
    "10. Which columns have missing values?"
   ]
  },
  {
   "cell_type": "code",
   "execution_count": 5,
   "id": "93b07188-c2b8-45f8-b6a7-790ede9ef324",
   "metadata": {},
   "outputs": [
    {
     "name": "stdout",
     "output_type": "stream",
     "text": [
      "\n",
      "10. Missing values in columns:\n",
      "BasePay        605\n",
      "Benefits     36159\n",
      "Notes       148654\n",
      "Status      110535\n",
      "dtype: int64\n"
     ]
    }
   ],
   "source": [
    "missing_values = df.isnull().sum()\n",
    "print(\"\\n10. Missing values in columns:\")\n",
    "print(missing_values[missing_values > 0])"
   ]
  },
  {
   "cell_type": "code",
   "execution_count": null,
   "id": "7d46133f-408f-4845-af20-a1659930534a",
   "metadata": {},
   "outputs": [],
   "source": []
  }
 ],
 "metadata": {
  "kernelspec": {
   "display_name": "Python 3 (ipykernel)",
   "language": "python",
   "name": "python3"
  },
  "language_info": {
   "codemirror_mode": {
    "name": "ipython",
    "version": 3
   },
   "file_extension": ".py",
   "mimetype": "text/x-python",
   "name": "python",
   "nbconvert_exporter": "python",
   "pygments_lexer": "ipython3",
   "version": "3.13.3"
  }
 },
 "nbformat": 4,
 "nbformat_minor": 5
}
