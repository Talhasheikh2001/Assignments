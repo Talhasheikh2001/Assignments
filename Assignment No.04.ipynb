{
 "cells": [
  {
   "cell_type": "code",
   "execution_count": 1,
   "id": "c83a5a1e-51f3-47dd-8626-81b145f7cf92",
   "metadata": {},
   "outputs": [],
   "source": [
    "#Question no.01:"
   ]
  },
  {
   "cell_type": "code",
   "execution_count": 12,
   "id": "a3e11768-4559-4005-92b0-6b41797061ae",
   "metadata": {},
   "outputs": [
    {
     "name": "stdout",
     "output_type": "stream",
     "text": [
      "Product#101: {'name': 'Laptop', 'category': 'Electronics', 'price': 1200, 'stock': 50}\n",
      "Product#102: {'name': 'Shirt', 'category': 'Apparel', 'price': 25, 'stock': 250}\n",
      "Product#104: {'name': 'Smart phone', 'Category': 'Electronics', 'Price': 900, 'Stock': 100}\n"
     ]
    }
   ],
   "source": [
    "products = {\n",
    "    101: {\"name\": \"Laptop\", \"category\": \"Electronics\", \"price\": 1200, \"stock\": 50},\n",
    "    102: {\"name\": \"Shirt\", \"category\": \"Apparel\", \"price\": 25, \"stock\": 200},\n",
    "    103: {\"name\": \"Coffee Maker\", \"category\": \"Home Appliances\", \"price\": 80, \"stock\": 30}\n",
    "}\n",
    "#Task.01\n",
    "products[102][\"stock\"] += 50\n",
    "#Task.02\n",
    "products[104] = {\"name\":\"Smart phone\", \"Category\": \"Electronics\", \"Price\": 900, \"Stock\": 100}\n",
    "#Result\n",
    "print(\"Product#101:\",products[101]),\n",
    "print(\"Product#102:\",products[102]),\n",
    "print(\"Product#104:\",products[104])"
   ]
  },
  {
   "cell_type": "code",
   "execution_count": 2,
   "id": "3d8e98d6-b2d5-42b2-b10d-d133a7fa2a10",
   "metadata": {},
   "outputs": [],
   "source": [
    "#Question no.02:"
   ]
  },
  {
   "cell_type": "code",
   "execution_count": 3,
   "id": "b7741ca4-8b93-4a60-9278-f5755af182a3",
   "metadata": {},
   "outputs": [
    {
     "name": "stdout",
     "output_type": "stream",
     "text": [
      "New list: ['apple', 'banana', 'orange', 'grape']\n"
     ]
    }
   ],
   "source": [
    "shopping_list = [\"apple\", \"banana\", \"apple\", \"orange\", \"banana\", \"grape\"]\n",
    "unique_items = []\n",
    "for item in shopping_list:\n",
    "    if item not in unique_items:\n",
    "        unique_items.append(item)\n",
    "print(\"New list:\",unique_items)"
   ]
  },
  {
   "cell_type": "code",
   "execution_count": null,
   "id": "cb8381a3-c1c6-4f80-ac0f-f6c121b88005",
   "metadata": {},
   "outputs": [],
   "source": [
    "#Question no.03:"
   ]
  },
  {
   "cell_type": "code",
   "execution_count": 8,
   "id": "d9c7544e-ce17-46eb-a88a-63aea60c5ada",
   "metadata": {},
   "outputs": [
    {
     "name": "stdout",
     "output_type": "stream",
     "text": [
      "Student in course A but not in course B: {'Bob', 'John'}\n",
      "Students in exactly one course: {'Eve', 'Bob', 'Charlie', 'John'}\n"
     ]
    }
   ],
   "source": [
    "course_a = {\"John\", \"Alice\", \"Bob\", \"David\"}\n",
    "course_b = {\"Alice\", \"Eve\", \"Charlie\", \"David\"}\n",
    "\n",
    "a_not_b = course_a - course_b\n",
    "print(\"Student in course A but not in course B:\",a_not_b)\n",
    "\n",
    "unique_students = course_a ^ course_b\n",
    "print(\"Students in exactly one course:\",unique_students)"
   ]
  },
  {
   "cell_type": "code",
   "execution_count": null,
   "id": "13da7e91-c099-4fa0-8a7b-38d70a917e83",
   "metadata": {},
   "outputs": [],
   "source": [
    "#Question no.04:"
   ]
  },
  {
   "cell_type": "code",
   "execution_count": 9,
   "id": "b5ab90f2-efb9-448c-8d70-d908d2948df9",
   "metadata": {},
   "outputs": [
    {
     "name": "stdout",
     "output_type": "stream",
     "text": [
      "The sum of all even numbers between 1 and 50 is: 650\n"
     ]
    }
   ],
   "source": [
    "sum_of_evens = 0\n",
    "\n",
    "for number in range(2, 51, 2):\n",
    "    sum_of_evens += number\n",
    "\n",
    "print(\"The sum of all even numbers between 1 and 50 is:\",sum_of_evens)"
   ]
  },
  {
   "cell_type": "code",
   "execution_count": 4,
   "id": "3e710a53-7424-4466-9a12-2579b6b83b3d",
   "metadata": {},
   "outputs": [],
   "source": [
    "#Question no.05:"
   ]
  },
  {
   "cell_type": "code",
   "execution_count": 16,
   "id": "439dd10d-6a41-4264-b2b9-58d0241c55c9",
   "metadata": {},
   "outputs": [
    {
     "name": "stdin",
     "output_type": "stream",
     "text": [
      "Enter a Number 3\n"
     ]
    },
    {
     "name": "stdout",
     "output_type": "stream",
     "text": [
      "50^1 = 50\n",
      "\n",
      "50^2 = 2500\n",
      "\n",
      "50^3 = 125000\n",
      "\n",
      "50^4 = 6250000\n",
      "\n",
      "50^5 = 312500000\n",
      "\n",
      "50^6 = 15625000000\n",
      "\n",
      "50^7 = 781250000000\n",
      "\n",
      "50^8 = 39062500000000\n",
      "\n",
      "50^9 = 1953125000000000\n",
      "\n",
      "50^10 = 97656250000000000\n",
      "\n"
     ]
    }
   ],
   "source": [
    "Number = int(input(\"Enter a Number\"))\n",
    "#initialize with variable called power\n",
    "power = 1\n",
    "#while loop\n",
    "while power <= 10:\n",
    "    result = number ** power\n",
    "    print(f\"{number}^{power} = {result}\")\n",
    "    print()\n",
    "    power += 1"
   ]
  },
  {
   "cell_type": "code",
   "execution_count": 5,
   "id": "5cff0629-a174-45c0-a427-565e1e77b4e6",
   "metadata": {},
   "outputs": [],
   "source": [
    "#Question no.06:"
   ]
  },
  {
   "cell_type": "code",
   "execution_count": 18,
   "id": "c8ea7949-83c9-4fc0-a3aa-06b0334528cf",
   "metadata": {},
   "outputs": [
    {
     "name": "stdin",
     "output_type": "stream",
     "text": [
      "Enter a number to start the countdown:  3\n"
     ]
    },
    {
     "name": "stdout",
     "output_type": "stream",
     "text": [
      "3\n",
      "2\n",
      "1\n",
      "0\n",
      "Countdown Finished!\n"
     ]
    }
   ],
   "source": [
    "start_number = int(input(\"Enter a number to start the countdown: \"))\n",
    "#For Loop\n",
    "for current in range(start_number, -1, -1):\n",
    "    print(current)\n",
    "\n",
    "print(\"Countdown Finished!\")"
   ]
  },
  {
   "cell_type": "code",
   "execution_count": 6,
   "id": "49d9a59c-17ab-4786-aae8-e419afbe319f",
   "metadata": {},
   "outputs": [],
   "source": [
    "#Question no.07:"
   ]
  },
  {
   "cell_type": "code",
   "execution_count": 21,
   "id": "b9c26ff9-f573-483e-9808-e56e85768e16",
   "metadata": {},
   "outputs": [
    {
     "name": "stdin",
     "output_type": "stream",
     "text": [
      "Enter a number:  21\n"
     ]
    },
    {
     "name": "stdout",
     "output_type": "stream",
     "text": [
      "The factorial of 21 is 51090942171709440000\n"
     ]
    }
   ],
   "source": [
    "number = int(input(\"Enter a number: \"))\n",
    "#initialized factorial to 1...\n",
    "factorial = 1\n",
    "#check if the number is positive, negative or zero\n",
    "if number < 0:\n",
    "    print(\"Factorial does not exist for negative numbers\")\n",
    "elif number == 0:\n",
    "    print(\"The factorial of 0 is 1\")\n",
    "else:\n",
    "    for i in range(1, number + 1):\n",
    "        factorial *= i\n",
    "    print(f\"The factorial of {number} is {factorial}\")"
   ]
  },
  {
   "cell_type": "code",
   "execution_count": 7,
   "id": "42eeabea-e467-4902-ad52-2eecc7177687",
   "metadata": {},
   "outputs": [],
   "source": [
    "#Question no.08:"
   ]
  },
  {
   "cell_type": "code",
   "execution_count": 24,
   "id": "27b78120-e877-4661-8f9b-45f98aa4d7a1",
   "metadata": {},
   "outputs": [
    {
     "name": "stdout",
     "output_type": "stream",
     "text": [
      "{'Name': 'Alice', 'Age': 25, 'Occupation': 'Engineer'}\n",
      "Alice\n",
      "25\n",
      "Engineer\n"
     ]
    }
   ],
   "source": [
    "person_info = {\n",
    "    \"Name\" : \"Alice\",\n",
    "    \"Age\" : 25,\n",
    "    \"Occupation\" : \"Engineer\"\n",
    "}\n",
    "print(person_info),\n",
    "print(person_info[\"Name\"]),\n",
    "print(person_info[\"Age\"]),\n",
    "print(person_info[\"Occupation\"])"
   ]
  },
  {
   "cell_type": "code",
   "execution_count": 8,
   "id": "bee1d68b-e0ca-4860-a9b0-3b760b08bd0f",
   "metadata": {},
   "outputs": [],
   "source": [
    "#Question no.09:"
   ]
  },
  {
   "cell_type": "code",
   "execution_count": 26,
   "id": "96b26813-c6f0-4c54-8ba5-a5b524df5f81",
   "metadata": {},
   "outputs": [
    {
     "name": "stdout",
     "output_type": "stream",
     "text": [
      "* \n",
      "* * \n",
      "* * * \n",
      "* * * * \n",
      "* * * * * \n"
     ]
    }
   ],
   "source": [
    "#initializing variables:\n",
    "rows = 5\n",
    "current_row =1\n",
    "#outer while loop for rows:\n",
    "while current_row <= rows:\n",
    "    current_column = 1\n",
    "    #outer while loop for columns:\n",
    "    while current_column <= current_row:\n",
    "        print(\"*\",end=\" \")\n",
    "        current_column += 1\n",
    "    print()\n",
    "    current_row += 1"
   ]
  },
  {
   "cell_type": "code",
   "execution_count": 9,
   "id": "998270f9-7b39-4cd7-92b2-d6ddf2d23a8a",
   "metadata": {},
   "outputs": [],
   "source": [
    "#Question no.10:"
   ]
  },
  {
   "cell_type": "code",
   "execution_count": 28,
   "id": "8ea23283-1232-45d9-9973-6cf4c74fc31c",
   "metadata": {},
   "outputs": [
    {
     "name": "stdout",
     "output_type": "stream",
     "text": [
      "1\n",
      "2\n",
      "3\n",
      "5\n",
      "6\n"
     ]
    }
   ],
   "source": [
    "#For Loop\n",
    "for num in range(1, 21):\n",
    "    if num % 4 == 0:\n",
    "        continue\n",
    "        \n",
    "    if num % 7 == 0:\n",
    "        break\n",
    "        \n",
    "    print(num)"
   ]
  }
 ],
 "metadata": {
  "kernelspec": {
   "display_name": "Python 3 (ipykernel)",
   "language": "python",
   "name": "python3"
  },
  "language_info": {
   "codemirror_mode": {
    "name": "ipython",
    "version": 3
   },
   "file_extension": ".py",
   "mimetype": "text/x-python",
   "name": "python",
   "nbconvert_exporter": "python",
   "pygments_lexer": "ipython3",
   "version": "3.12.7"
  }
 },
 "nbformat": 4,
 "nbformat_minor": 5
}
