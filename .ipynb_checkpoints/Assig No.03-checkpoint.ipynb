{
 "cells": [
  {
   "cell_type": "code",
   "execution_count": 1,
   "id": "baa90c11-a116-47af-8677-27299d7cedda",
   "metadata": {},
   "outputs": [],
   "source": [
    "#Question 1:"
   ]
  },
  {
   "cell_type": "code",
   "execution_count": 22,
   "id": "d2816747-7287-4a6e-9073-db3a8358b3ba",
   "metadata": {},
   "outputs": [
    {
     "name": "stdin",
     "output_type": "stream",
     "text": [
      "enter your age 57\n"
     ]
    },
    {
     "name": "stdout",
     "output_type": "stream",
     "text": [
      "Adult\n"
     ]
    }
   ],
   "source": [
    "age = int(input(\"enter your age\"))\n",
    "if 0 <= age <= 12:\n",
    "    print(\"child\")\n",
    "elif 13 <= age <= 19:\n",
    "    print(\"Teenager\")\n",
    "elif 20 <= age <= 64:\n",
    "    print(\"Adult\")\n",
    "elif age >= 65:\n",
    "    print(\"Senior\")\n",
    "else:\n",
    "    print(\"Wrong Entry\")"
   ]
  },
  {
   "cell_type": "code",
   "execution_count": 5,
   "id": "07c59ad3-9377-411f-b0fd-f5e5d73ca681",
   "metadata": {},
   "outputs": [],
   "source": [
    "#Question 2:"
   ]
  },
  {
   "cell_type": "code",
   "execution_count": 23,
   "id": "fbcd55da-3084-48f7-8208-a4216ef6b386",
   "metadata": {},
   "outputs": [
    {
     "name": "stdin",
     "output_type": "stream",
     "text": [
      "Enter your email address muhammadsamiawanrrr89@gmail.com\n"
     ]
    },
    {
     "name": "stdout",
     "output_type": "stream",
     "text": [
      "Email format is valid.\n"
     ]
    }
   ],
   "source": [
    "email = input(\"Enter your email address\")\n",
    "\n",
    "if \"@\" in email and \".\" in email:\n",
    "    print(\"Email format is valid.\")\n",
    "else:\n",
    "    print(\"Invalid email format.\")\n"
   ]
  },
  {
   "cell_type": "code",
   "execution_count": 2,
   "id": "6198e503-5c3d-4b55-ae50-b211b73de197",
   "metadata": {},
   "outputs": [],
   "source": [
    "#Question 3:"
   ]
  },
  {
   "cell_type": "code",
   "execution_count": 8,
   "id": "9cad2464-caf9-4c35-a066-aa447c079b5a",
   "metadata": {},
   "outputs": [
    {
     "name": "stdin",
     "output_type": "stream",
     "text": [
      "Enter the first number: 3\n",
      "Enter the second number: 4\n",
      "Enter the third number: 6\n"
     ]
    },
    {
     "name": "stdout",
     "output_type": "stream",
     "text": [
      "The largest number among the three is: 6.0\n"
     ]
    }
   ],
   "source": [
    "num1 = float(input(\"Enter the first number:\"))\n",
    "num2 = float(input(\"Enter the second number:\"))\n",
    "num3 = float(input(\"Enter the third number:\"))\n",
    "\n",
    "if num1 == num2 == num3:\n",
    "    print(\"All three numbers are equal.\")\n",
    "elif num1 == num2 or num1 == num3 or num2 == num3:\n",
    "    print(\"Some of the numbers are equal.\")\n",
    "    largest = max(num1, num2, num3)\n",
    "    print(f\"The largest number among the three is: {largest}\")\n",
    "else:\n",
    "    largest = max(num1, num2, num3)\n",
    "    print(f\"The largest number among the three is: {largest}\")"
   ]
  },
  {
   "cell_type": "code",
   "execution_count": 3,
   "id": "aa806320-c60a-4cfd-a556-7bc283814188",
   "metadata": {},
   "outputs": [],
   "source": [
    "#Question 4:"
   ]
  },
  {
   "cell_type": "code",
   "execution_count": 15,
   "id": "13ad9476-5ac2-4c6b-b94a-10cdbff0aedb",
   "metadata": {},
   "outputs": [
    {
     "name": "stdin",
     "output_type": "stream",
     "text": [
      "Enter a number: -3\n"
     ]
    },
    {
     "name": "stdout",
     "output_type": "stream",
     "text": [
      "The number is not positive\n"
     ]
    }
   ],
   "source": [
    "number = int(input(\"Enter a number:\"))\n",
    "\n",
    "if number > 0:\n",
    "    if number % 2 == 0:\n",
    "        print(\"The number is positive and even\")\n",
    "    else:\n",
    "        print(\"The number is positive and odd\")\n",
    "else:\n",
    "    print(\"The number is not positive\")"
   ]
  },
  {
   "cell_type": "code",
   "execution_count": 4,
   "id": "5a2e1a39-0fba-4d77-a59b-e6f89f73f9ee",
   "metadata": {},
   "outputs": [],
   "source": [
    "#Question 5:"
   ]
  },
  {
   "cell_type": "code",
   "execution_count": 21,
   "id": "0bb85658-688b-40f2-b27f-c677c2a35745",
   "metadata": {},
   "outputs": [
    {
     "name": "stdin",
     "output_type": "stream",
     "text": [
      "Enter Username admin\n",
      "Enter your password 1234\n"
     ]
    },
    {
     "name": "stdout",
     "output_type": "stream",
     "text": [
      "Access granted\n"
     ]
    }
   ],
   "source": [
    "correct_username = \"admin\"\n",
    "correct_password = \"1234\"\n",
    "\n",
    "input_username = input(\"Enter Username\")\n",
    "input_password = input(\"Enter your password\")\n",
    "\n",
    "if input_username == correct_username:\n",
    "    if input_password == correct_password:\n",
    "        print(\"Access granted\")\n",
    "    else:\n",
    "        print(\"Incorrect password\")\n",
    "else:\n",
    "    print(\"Incorrect username\")"
   ]
  },
  {
   "cell_type": "code",
   "execution_count": 5,
   "id": "c3e89f8a-ad0a-4927-8aa0-03729c63d6b7",
   "metadata": {},
   "outputs": [],
   "source": [
    "#Question 6:"
   ]
  },
  {
   "cell_type": "code",
   "execution_count": 25,
   "id": "ea48b81a-2022-4bb4-b50c-04d808838e48",
   "metadata": {},
   "outputs": [
    {
     "name": "stdin",
     "output_type": "stream",
     "text": [
      "Enter an integer:  smai\n"
     ]
    },
    {
     "name": "stdout",
     "output_type": "stream",
     "text": [
      "Invalid input. Please enter an integer.\n"
     ]
    }
   ],
   "source": [
    "my_tuple = (5, 10, 15, 20, 25)\n",
    "try:\n",
    "    user_input = int(input(\"Enter an integer: \"))\n",
    "    \n",
    "    if user_input in my_tuple:\n",
    "        print(f\"{user_input} exists in the tuple.\")\n",
    "    else:\n",
    "        print(f\"{user_input} does not exist in the tuple.\")\n",
    "except ValueError:\n",
    "    print(\"Invalid input. Please enter an integer.\")\n"
   ]
  },
  {
   "cell_type": "code",
   "execution_count": 6,
   "id": "b0ed49f9-2be9-46f9-9ff7-51895b3e0584",
   "metadata": {},
   "outputs": [],
   "source": [
    "#Question 7:"
   ]
  },
  {
   "cell_type": "code",
   "execution_count": 26,
   "id": "7979eb3e-dba7-4f62-9a58-6208173484a4",
   "metadata": {},
   "outputs": [
    {
     "name": "stdin",
     "output_type": "stream",
     "text": [
      "Enter your first name: muhammad\n",
      "Enter your last name: sami\n",
      "Enter your age: 25\n"
     ]
    },
    {
     "name": "stdout",
     "output_type": "stream",
     "text": [
      "User information as a tuple: ('muhammad', 'sami', '25')\n"
     ]
    }
   ],
   "source": [
    "first_name = input(\"Enter your first name:\")\n",
    "last_name = input(\"Enter your last name:\")\n",
    "age = input(\"Enter your age:\")\n",
    "\n",
    "user_information = (first_name, last_name, age)\n",
    "\n",
    "print(\"User information as a tuple:\", user_information)"
   ]
  },
  {
   "cell_type": "code",
   "execution_count": 7,
   "id": "3b58eed7-658a-4082-ab31-8c829786fe5a",
   "metadata": {},
   "outputs": [],
   "source": [
    "#Question 8:"
   ]
  },
  {
   "cell_type": "code",
   "execution_count": 28,
   "id": "1101b9d4-3128-46b9-87a3-6652d96e591b",
   "metadata": {},
   "outputs": [
    {
     "name": "stdout",
     "output_type": "stream",
     "text": [
      "Sum of x, y, and z: 15\n"
     ]
    }
   ],
   "source": [
    "coordinates = (4, 5, 6)\n",
    "\n",
    "x, y, z = coordinates\n",
    "\n",
    "total = x + y + z\n",
    "\n",
    "print(\"Sum of x, y, and z:\", total)"
   ]
  },
  {
   "cell_type": "code",
   "execution_count": 8,
   "id": "467b4b54-2336-4369-b4b3-09bc17a51e80",
   "metadata": {},
   "outputs": [],
   "source": [
    "#Question 9:"
   ]
  },
  {
   "cell_type": "code",
   "execution_count": 17,
   "id": "a43433f2-38ee-4f06-9657-352c4a9a5127",
   "metadata": {},
   "outputs": [
    {
     "name": "stdout",
     "output_type": "stream",
     "text": [
      "[1, 2, 4, 5]\n"
     ]
    }
   ],
   "source": [
    "my_tuple = (1,2,3,4,5)\n",
    "my_list = list(my_tuple)\n",
    "my_list.remove(3)\n",
    "print(my_list)"
   ]
  },
  {
   "cell_type": "code",
   "execution_count": 9,
   "id": "28be3192-194e-437a-89cb-4275f374aea4",
   "metadata": {},
   "outputs": [],
   "source": [
    "#Question 10:"
   ]
  },
  {
   "cell_type": "code",
   "execution_count": 21,
   "id": "535c8dec-07d2-4ba0-a0e9-fe27295a9527",
   "metadata": {},
   "outputs": [
    {
     "name": "stdout",
     "output_type": "stream",
     "text": [
      "30\n",
      "5\n"
     ]
    }
   ],
   "source": [
    "numbers = (10, 20, 5, 30, 15)\n",
    "numbers\n",
    "print(max(numbers))\n",
    "print(min(numbers))"
   ]
  }
 ],
 "metadata": {
  "kernelspec": {
   "display_name": "Python 3 (ipykernel)",
   "language": "python",
   "name": "python3"
  },
  "language_info": {
   "codemirror_mode": {
    "name": "ipython",
    "version": 3
   },
   "file_extension": ".py",
   "mimetype": "text/x-python",
   "name": "python",
   "nbconvert_exporter": "python",
   "pygments_lexer": "ipython3",
   "version": "3.13.3"
  }
 },
 "nbformat": 4,
 "nbformat_minor": 5
}
